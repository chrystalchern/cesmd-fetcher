{
 "cells": [
  {
   "cell_type": "markdown",
   "metadata": {},
   "source": [
    "## Get zip files of building records using cesmd fetcher"
   ]
  },
  {
   "cell_type": "code",
   "execution_count": 1,
   "metadata": {},
   "outputs": [],
   "source": [
    "import search\n",
    "from pathlib import Path"
   ]
  },
  {
   "cell_type": "code",
   "execution_count": 2,
   "metadata": {},
   "outputs": [],
   "source": [
    "BUILDINGS = {\n",
    "    \"CE24602\": \"Los Angeles - 52-story Office Bldg\"\n",
    "}\n",
    "\n",
    "building_dir = Path(\"./buildings\")\n",
    "if not building_dir.exists():\n",
    "    Path.mkdir(building_dir)"
   ]
  },
  {
   "cell_type": "code",
   "execution_count": 3,
   "metadata": {},
   "outputs": [],
   "source": [
    "update_files = False"
   ]
  },
  {
   "cell_type": "code",
   "execution_count": 4,
   "metadata": {},
   "outputs": [],
   "source": [
    "if update_files:\n",
    "    for cesmd in BUILDINGS.keys():\n",
    "        print(BUILDINGS[cesmd])\n",
    "        search.get_records(str(building_dir)+\"/\"+cesmd, \"cchern@berkeley.edu\", station_code=cesmd, process_level=\"processed\", include_inactive=True)"
   ]
  },
  {
   "cell_type": "markdown",
   "metadata": {},
   "source": [
    "## Move records to top levels of unzipped folders"
   ]
  },
  {
   "cell_type": "code",
   "execution_count": 5,
   "metadata": {},
   "outputs": [],
   "source": [
    "import glob\n",
    "from zipfile import ZipFile"
   ]
  },
  {
   "cell_type": "code",
   "execution_count": 6,
   "metadata": {},
   "outputs": [],
   "source": [
    "extract_new = False"
   ]
  },
  {
   "cell_type": "code",
   "execution_count": 7,
   "metadata": {},
   "outputs": [],
   "source": [
    "if extract_new:\n",
    "    for cesmd_zip in glob.glob(str(building_dir)+\"/*.zip\"):\n",
    "        newdir = cesmd_zip[:-4]\n",
    "        with ZipFile(cesmd_zip) as zObject: \n",
    "            zObject.extractall(path=\"./\"+newdir)"
   ]
  },
  {
   "cell_type": "code",
   "execution_count": 8,
   "metadata": {},
   "outputs": [],
   "source": [
    "move_new = False"
   ]
  },
  {
   "cell_type": "code",
   "execution_count": 9,
   "metadata": {},
   "outputs": [],
   "source": [
    "if move_new:\n",
    "    import os\n",
    "\n",
    "    def delete_empty_folders(root):\n",
    "        deleted = set()\n",
    "        for current_dir, subdirs, files in os.walk(root, topdown=False):\n",
    "            still_has_subdirs = False\n",
    "            for subdir in subdirs:\n",
    "                if os.path.join(current_dir, subdir) not in deleted:\n",
    "                    still_has_subdirs = True\n",
    "                    break\n",
    "            if not any(files) and not still_has_subdirs:\n",
    "                os.rmdir(current_dir)\n",
    "                deleted.add(current_dir)\n",
    "        return deleted\n",
    "\n",
    "    for cesmd in BUILDINGS.keys():\n",
    "        for record in glob.glob(str(building_dir)+\"/\"+cesmd+\"/*/*/*.zip\"):\n",
    "            os.replace(record, str(building_dir)+\"/\"+cesmd+\"/\"+os.path.basename(record))\n",
    "    \n",
    "    delete_empty_folders(\".\")\n",
    "    "
   ]
  },
  {
   "cell_type": "code",
   "execution_count": 10,
   "metadata": {},
   "outputs": [],
   "source": [
    "summarize_new = True"
   ]
  },
  {
   "cell_type": "code",
   "execution_count": 11,
   "metadata": {},
   "outputs": [
    {
     "name": "stdout",
     "output_type": "stream",
     "text": [
      "Reading buildings/CE24602/BigBear92_ce24602p.zip\n",
      "Reading buildings/CE24602/chinohills_29jul2008_ce24602p.zip\n",
      "Reading buildings/CE24602/ci38443183_ce24602p.zip\n",
      "Reading buildings/CE24602/ci38457511_ce24602p.zip\n",
      "Reading buildings/CE24602/ci38695658_ce24602p.zip\n",
      "Reading buildings/CE24602/ci39838928_ce24602p.zip\n",
      "Reading buildings/CE24602/encino_17mar2014_15476961_ce24602p.zip\n",
      "Reading buildings/CE24602/lahabra_28mar2014_15481673_ce24602p.zip\n",
      "Reading buildings/CE24602/landers92_ce24602p.zip\n",
      "Reading buildings/CE24602/northridge_17jan1994_ce24602p.zip\n",
      "Reading buildings/CE24602/SierraMadre91_ce24602p.zip\n"
     ]
    }
   ],
   "source": [
    "if summarize_new:\n",
    "    import quakeio\n",
    "    import json\n",
    "    for cesmd in BUILDINGS.keys():  \n",
    "        events = []\n",
    "        for file in glob.glob(str(building_dir)+\"/\"+cesmd+\"/*.zip\"):\n",
    "            print(f\"Reading {file}\")\n",
    "            try:\n",
    "                events.append(\n",
    "                    quakeio.read(file, summarize=True).serialize(serialize_data=False)\n",
    "                )\n",
    "            except:\n",
    "                print(f\"failed to read {file}\")\n",
    "        with open(str(building_dir)+\"/\"+cesmd+\"_meta.json\", \"w\") as writefile:\n",
    "            json.dump(events, writefile)"
   ]
  },
  {
   "cell_type": "code",
   "execution_count": 12,
   "metadata": {},
   "outputs": [],
   "source": [
    "building_names = [{'cesmd': cesmd, 'name': name} for cesmd,name in BUILDINGS.items()]"
   ]
  },
  {
   "cell_type": "code",
   "execution_count": 13,
   "metadata": {},
   "outputs": [],
   "source": [
    "with open(\"building_names.json\", \"w\") as writefile:\n",
    "    json.dump(building_names, writefile)"
   ]
  },
  {
   "cell_type": "code",
   "execution_count": 14,
   "metadata": {},
   "outputs": [
    {
     "name": "stdout",
     "output_type": "stream",
     "text": [
      "\n",
      "    <div id='CE24602_PeakAccelHistDiv' style=\"width:800px;height:400px;\"></div>\n",
      "    <div id='CE24602_PeakAccelPlotDiv' style=\"width:800px;height:400px;\"></div>"
     ]
    }
   ],
   "source": [
    "# Don't worry about this; it's for making webpages of plots of building accelerations\n",
    "\n",
    "for cesmd in BUILDINGS.keys():  \n",
    "    print(f\"\"\"\n",
    "    <div id='{cesmd}_PeakAccelHistDiv' style=\"width:800px;height:400px;\"></div>\n",
    "    <div id='{cesmd}_PeakAccelPlotDiv' style=\"width:800px;height:400px;\"></div>\"\"\", end=\"\")"
   ]
  },
  {
   "cell_type": "code",
   "execution_count": null,
   "metadata": {},
   "outputs": [],
   "source": []
  }
 ],
 "metadata": {
  "kernelspec": {
   "display_name": "base",
   "language": "python",
   "name": "python3"
  },
  "language_info": {
   "codemirror_mode": {
    "name": "ipython",
    "version": 3
   },
   "file_extension": ".py",
   "mimetype": "text/x-python",
   "name": "python",
   "nbconvert_exporter": "python",
   "pygments_lexer": "ipython3",
   "version": "3.12.0"
  }
 },
 "nbformat": 4,
 "nbformat_minor": 2
}
