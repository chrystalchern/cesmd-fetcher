{
 "cells": [
  {
   "cell_type": "markdown",
   "metadata": {},
   "source": [
    "## Get zip files of building records using cesmd fetcher"
   ]
  },
  {
   "cell_type": "code",
   "execution_count": 1,
   "metadata": {},
   "outputs": [],
   "source": [
    "import search\n",
    "from pathlib import Path"
   ]
  },
  {
   "cell_type": "code",
   "execution_count": 2,
   "metadata": {},
   "outputs": [],
   "source": [
    "from buildings import BUILDINGS\n",
    "\n",
    "building_dir = Path(\"CSMIP/buildings\")\n",
    "if not building_dir.exists():\n",
    "    Path.mkdir(building_dir)"
   ]
  },
  {
   "cell_type": "code",
   "execution_count": 3,
   "metadata": {},
   "outputs": [],
   "source": [
    "update_files = False"
   ]
  },
  {
   "cell_type": "code",
   "execution_count": 4,
   "metadata": {},
   "outputs": [],
   "source": [
    "if update_files:\n",
    "    for cesmd in BUILDINGS.keys():\n",
    "        print(BUILDINGS[cesmd])\n",
    "        search.get_records(str(building_dir)+\"/\"+cesmd, \"cchern@berkeley.edu\", station_code=cesmd, process_level=\"processed\", include_inactive=True)"
   ]
  },
  {
   "cell_type": "markdown",
   "metadata": {},
   "source": [
    "## Move records to top levels of unzipped folders"
   ]
  },
  {
   "cell_type": "code",
   "execution_count": 5,
   "metadata": {},
   "outputs": [],
   "source": [
    "import glob\n",
    "from zipfile import ZipFile"
   ]
  },
  {
   "cell_type": "code",
   "execution_count": 6,
   "metadata": {},
   "outputs": [],
   "source": [
    "extract_new = True"
   ]
  },
  {
   "cell_type": "code",
   "execution_count": 7,
   "metadata": {},
   "outputs": [],
   "source": [
    "if extract_new:\n",
    "    for cesmd_zip in glob.glob(str(building_dir)+\"/*.zip\"):\n",
    "        newdir = cesmd_zip[:-4]\n",
    "        with ZipFile(cesmd_zip) as zObject: \n",
    "            zObject.extractall(path=\"./\"+newdir)"
   ]
  },
  {
   "cell_type": "code",
   "execution_count": 8,
   "metadata": {},
   "outputs": [],
   "source": [
    "move_new = True"
   ]
  },
  {
   "cell_type": "code",
   "execution_count": 9,
   "metadata": {},
   "outputs": [],
   "source": [
    "if move_new:\n",
    "    import os\n",
    "\n",
    "    def delete_empty_folders(root):\n",
    "        deleted = set()\n",
    "        for current_dir, subdirs, files in os.walk(root, topdown=False):\n",
    "            still_has_subdirs = False\n",
    "            for subdir in subdirs:\n",
    "                if os.path.join(current_dir, subdir) not in deleted:\n",
    "                    still_has_subdirs = True\n",
    "                    break\n",
    "            if not any(files) and not still_has_subdirs:\n",
    "                os.rmdir(current_dir)\n",
    "                deleted.add(current_dir)\n",
    "        return deleted\n",
    "\n",
    "    for cesmd in BUILDINGS.keys():\n",
    "        for record in glob.glob(str(building_dir)+\"/\"+cesmd+\"/*/*/*.zip\"):\n",
    "            os.replace(record, str(building_dir)+\"/\"+cesmd+\"/\"+os.path.basename(record))\n",
    "    \n",
    "    delete_empty_folders(\".\")\n",
    "    "
   ]
  },
  {
   "cell_type": "code",
   "execution_count": 10,
   "metadata": {},
   "outputs": [],
   "source": [
    "summarize_new = True"
   ]
  },
  {
   "cell_type": "code",
   "execution_count": 11,
   "metadata": {},
   "outputs": [
    {
     "name": "stdout",
     "output_type": "stream",
     "text": [
      "Reading CSMIP\\buildings/CE24602\\BigBear92_ce24602p.zip\n",
      "Reading CSMIP\\buildings/CE24602\\chinohills_29jul2008_ce24602p.zip\n",
      "Reading CSMIP\\buildings/CE24602\\ci38443183_ce24602p.zip\n",
      "Reading CSMIP\\buildings/CE24602\\ci38457511_ce24602p.zip\n",
      "Reading CSMIP\\buildings/CE24602\\ci38695658_ce24602p.zip\n",
      "Reading CSMIP\\buildings/CE24602\\ci39838928_ce24602p.zip\n",
      "Reading CSMIP\\buildings/CE24602\\encino_17mar2014_15476961_ce24602p.zip\n",
      "Reading CSMIP\\buildings/CE24602\\lahabra_28mar2014_15481673_ce24602p.zip\n",
      "Reading CSMIP\\buildings/CE24602\\landers92_ce24602p.zip\n",
      "Reading CSMIP\\buildings/CE24602\\northridge_17jan1994_ce24602p.zip\n",
      "Reading CSMIP\\buildings/CE24602\\SierraMadre91_ce24602p.zip\n",
      "Reading CSMIP\\buildings/CE24386\\BigBear92_ce24386p.zip\n",
      "Reading CSMIP\\buildings/CE24386\\BorregoSprings_07Jul2010_CE24386P.ZIP\n",
      "Reading CSMIP\\buildings/CE24386\\chinohills_29jul2008_ce24386p.zip\n",
      "Reading CSMIP\\buildings/CE24386\\ci39322287_ce24386p.zip\n",
      "Reading CSMIP\\buildings/CE24386\\ci39322767_ce24386p.zip\n",
      "Reading CSMIP\\buildings/CE24386\\ci40161279_ce24386p.zip\n",
      "Reading CSMIP\\buildings/CE24386\\ci40664632_ce24386p.zip\n",
      "Reading CSMIP\\buildings/CE24386\\encino_17mar2014_15476961_ce24386p.zip\n",
      "Reading CSMIP\\buildings/CE24386\\landers92_ce24386p.zip\n",
      "Reading CSMIP\\buildings/CE24386\\newhall_01sep2011_11001205_ce24386p.zip\n",
      "Reading CSMIP\\buildings/CE24386\\northridge_17jan1994_ce24386p.zip\n",
      "Reading CSMIP\\buildings/CE24386\\westwoodvillage_01jun2014_15507801_ce24386p.zip\n",
      "Reading CSMIP\\buildings/CE24386\\Whittier87_CE24386P.zip\n",
      "Reading CSMIP\\buildings/CE58483\\alamo_05sep2008_ce58483p.zip\n",
      "Reading CSMIP\\buildings/CE58483\\berkeley_04jan2018_72948801_ce58483p.zip\n",
      "Reading CSMIP\\buildings/CE58483\\berkeley_20oct2011_71667366_ce58483p.zip\n",
      "Reading CSMIP\\buildings/CE58483\\berkeley_20oct2011_71667591_ce58483p.zip\n",
      "Reading CSMIP\\buildings/CE58483\\berkeley_27oct2011_71671256_ce58483p.zip\n",
      "Reading CSMIP\\buildings/CE58483\\elcerrito_05mar2012_71746766_ce58483p.zip\n",
      "Reading CSMIP\\buildings/CE58483\\lafayette_01mar2007_ce58483p.zip\n",
      "Reading CSMIP\\buildings/CE58483\\lomaprieta_17oct1989_ce58483p.zip\n",
      "Reading CSMIP\\buildings/CE58483\\Morganhill_07Jan2011_CE58483P.ZIP\n",
      "Reading CSMIP\\buildings/CE58483\\nc73580646_ce58483p.zip\n",
      "Reading CSMIP\\buildings/CE58483\\nc73799091_ce58483p.zip\n",
      "Reading CSMIP\\buildings/CE58483\\oakland_14may2018_73016050_ce58483p.zip\n",
      "Reading CSMIP\\buildings/CE58483\\piedmontarea_20dec2006_ce58483p.zip\n",
      "Reading CSMIP\\buildings/CE58483\\piedmont_20jul2007_ce58483p.zip\n",
      "Reading CSMIP\\buildings/CE58483\\sanleandro_23aug2011_71625060_ce58483p.zip\n",
      "Reading CSMIP\\buildings/CE58483\\southnapa_24aug2014_72282711_ce58483p.zip\n",
      "Reading CSMIP\\buildings/CE24579\\BorregoSprings_07Jul2010_CE24579P.ZIP\n",
      "Reading CSMIP\\buildings/CE24579\\chinohills_29jul2008_ce24579p.zip\n",
      "Reading CSMIP\\buildings/CE24579\\ci38443183_ce24579p.zip\n",
      "Reading CSMIP\\buildings/CE24579\\ci38457511_ce24579p.zip\n",
      "Reading CSMIP\\buildings/CE24579\\ci38695658_ce24579p.zip\n",
      "Reading CSMIP\\buildings/CE24579\\ci39812319_ce24579p.zip\n",
      "Reading CSMIP\\buildings/CE24579\\ci39838928_ce24579p.zip\n",
      "Reading CSMIP\\buildings/CE24579\\landers92_ce24579p.zip\n",
      "Reading CSMIP\\buildings/CE24579\\losangelesairport_25jul2012_15182841_ce24579p.zip\n",
      "Reading CSMIP\\buildings/CE24579\\northridge_17jan1994_ce24579p.zip\n",
      "Reading CSMIP\\buildings/CE24579\\WhittierNarrows_16Mar2010_CE24579P.ZIP\n",
      "Reading CSMIP\\buildings/CE24322\\calexico_04apr2010_14607652_CE24322P.ZIP\n",
      "Reading CSMIP\\buildings/CE24322\\chatsworth_09aug2007_ce24322p.zip\n",
      "Reading CSMIP\\buildings/CE24322\\chinohills_29jul2008_ce24322p.zip\n",
      "Reading CSMIP\\buildings/CE24322\\ci39645386_ce24322p.zip\n",
      "Reading CSMIP\\buildings/CE24322\\ci40664632_ce24322p.zip\n",
      "Reading CSMIP\\buildings/CE24322\\encino_17mar2014_15476961_ce24322p.zip\n",
      "Reading CSMIP\\buildings/CE24322\\landers92_ce24322p.zip\n",
      "Reading CSMIP\\buildings/CE24322\\northridge_17jan1994_ce24322p.zip\n",
      "Reading CSMIP\\buildings/CE24322\\westwood_18sep2017_37766535_ce24322p.zip\n",
      "Reading CSMIP\\buildings/CE24322\\Whittier87_CE24322P.zip\n",
      "Reading CSMIP\\buildings/CE23634\\BigBear92_ce23634p.zip\n",
      "Reading CSMIP\\buildings/CE23634\\bigbearcity_22feb2003_ce23634p.zip\n",
      "Reading CSMIP\\buildings/CE23634\\chinohills_29jul2008_ce23634p.zip\n",
      "Reading CSMIP\\buildings/CE23634\\ci38443183_ce23634p.zip\n",
      "Reading CSMIP\\buildings/CE23634\\ci38457511_ce23634p.zip\n",
      "Reading CSMIP\\buildings/CE23634\\ci39756418_ce23634p.zip\n",
      "Reading CSMIP\\buildings/CE23634\\fontana_25jul2015_37213455_ce23634p.zip\n",
      "Reading CSMIP\\buildings/CE23634\\landers92_ce23634p.zip\n",
      "Reading CSMIP\\buildings/CE23634\\northridge_17jan1994_ce23634p.zip\n",
      "Reading CSMIP\\buildings/CE89494\\bayview_11oct2013_72086051_ce89494p.zip\n",
      "Reading CSMIP\\buildings/CE89494\\bluelake_21jul2016_72664436_ce89494p.zip\n",
      "Reading CSMIP\\buildings/CE89494\\ferndaleoffshore_08dec2016_us20007z6r_ce89494p.zip\n",
      "Reading CSMIP\\buildings/CE89494\\Ferndale_04Feb2010_CE89494P.ZIP\n",
      "Reading CSMIP\\buildings/CE89494\\Ferndale_09Jan2010_CE89494P.ZIP\n",
      "Reading CSMIP\\buildings/CE89494\\ferndale_09mar2014_72182046_ce89494p.zip\n",
      "Reading CSMIP\\buildings/CE89494\\ferndale_17dec2013_72125816_ce89494p.zip\n",
      "Reading CSMIP\\buildings/CE89494\\ferndale_26feb2007_ce89494p.zip\n",
      "Reading CSMIP\\buildings/CE89494\\ferndale_28jul2017_72852151_ce89494p.zip\n",
      "Reading CSMIP\\buildings/CE89494\\humboldthill_02aug2013_72042291_ce89494p.zip\n",
      "Reading CSMIP\\buildings/CE89494\\humboldthill_22mar2018_72988726_ce89494p.zip\n",
      "Reading CSMIP\\buildings/CE89494\\nc73138600_ce89494p.zip\n",
      "Reading CSMIP\\buildings/CE89494\\nc73139526_ce89494p.zip\n",
      "Reading CSMIP\\buildings/CE89494\\nc73157855_ce89494p.zip\n",
      "Reading CSMIP\\buildings/CE89494\\nc73184841_ce89494p.zip\n",
      "Reading CSMIP\\buildings/CE89494\\nc73201181_ce89494p.zip\n",
      "Reading CSMIP\\buildings/CE89494\\nc73355700_ce89494p.zip.zip\n",
      "Reading CSMIP\\buildings/CE89494\\nc73666231_ce89494p.zip\n",
      "Reading CSMIP\\buildings/CE89494\\nc73714181_ce89494p.zip\n",
      "Reading CSMIP\\buildings/CE89494\\nc73767575_ce89494p.zip\n",
      "Reading CSMIP\\buildings/CE89494\\nc73767655_ce89494p.zip\n",
      "Reading CSMIP\\buildings/CE89494\\nc73798306_ce89494p.zip\n",
      "Reading CSMIP\\buildings/CE89494\\nc73821036_ce89494p.zip\n",
      "Reading CSMIP\\buildings/CE89494\\nc73827571_ce89494p.zip\n",
      "Reading CSMIP\\buildings/CE89494\\nc73860415_ce89494p.zip\n",
      "Reading CSMIP\\buildings/CE89494\\nc73923661_ce89494p.zip\n",
      "Reading CSMIP\\buildings/CE89494\\nc73943821_ce89494p.zip\n",
      "Reading CSMIP\\buildings/CE89494\\nc73947830_ce89494p.zip\n",
      "Reading CSMIP\\buildings/CE89494\\nc73947835_ce89494p.zip\n",
      "Reading CSMIP\\buildings/CE89494\\nc75006996_ce89494p.zip\n",
      "Reading CSMIP\\buildings/CE89494\\petroliaoffshore_26oct2008_ce89494p.zip\n",
      "Reading CSMIP\\buildings/CE89494\\petrolia_20jul2012_71819471_ce89494p.zip\n",
      "Reading CSMIP\\buildings/CE89494\\petrolia_22mar2018_72988926_ce89494p.zip\n",
      "Reading CSMIP\\buildings/CE89494\\riodell_06jan2016_72574495_ce89494p.zip\n",
      "Reading CSMIP\\buildings/CE89494\\trinidad_16aug2008_ce89494p.zip\n",
      "Reading CSMIP\\buildings/CE89494\\trinidad_24jun2007_ce89494p.zip\n",
      "Reading CSMIP\\buildings/CE58196\\alamo_05sep2008_ce58196p.zip\n",
      "Reading CSMIP\\buildings/CE58196\\alumrock_30oct2007_ce58196p.zip\n",
      "Reading CSMIP\\buildings/CE58196\\Berkeley_05Sep2003_CE58196.ZIP\n",
      "Reading CSMIP\\buildings/CE58196\\berkeley_20oct2011_71667366_ce58196p.zip\n",
      "Reading CSMIP\\buildings/CE58196\\elcerrito_05mar2012_71746766_ce58196p.zip\n",
      "Reading CSMIP\\buildings/CE58196\\lafayette_01mar2007_ce58196p.zip\n",
      "Reading CSMIP\\buildings/CE58196\\Morganhill_07Jan2011_CE58196P.ZIP\n",
      "Reading CSMIP\\buildings/CE58196\\piedmont_17aug2015_72507396_ce58196p.zip\n",
      "Reading CSMIP\\buildings/CE58196\\piedmont_20jul2007_ce58196p.zip\n",
      "Reading CSMIP\\buildings/CE58196\\southnapa_24aug2014_72282711_ce58196p.zip\n"
     ]
    }
   ],
   "source": [
    "if summarize_new:\n",
    "    import quakeio\n",
    "    import json\n",
    "    for cesmd in BUILDINGS.keys():  \n",
    "        events = []\n",
    "        for file in glob.glob(str(building_dir)+\"/\"+cesmd+\"/*.zip\"):\n",
    "            print(f\"Reading {file}\")\n",
    "            try:\n",
    "                events.append(\n",
    "                    quakeio.read(file, summarize=True).serialize(serialize_data=False)\n",
    "                )\n",
    "            except:\n",
    "                print(f\"failed to read {file}\")\n",
    "        with open(str(building_dir)+\"/\"+cesmd+\"_meta.json\", \"w\") as writefile:\n",
    "            json.dump(events, writefile)"
   ]
  },
  {
   "cell_type": "code",
   "execution_count": 12,
   "metadata": {},
   "outputs": [],
   "source": [
    "building_names = [{'cesmd': cesmd, 'name': name} for cesmd,name in BUILDINGS.items()]"
   ]
  },
  {
   "cell_type": "code",
   "execution_count": 13,
   "metadata": {},
   "outputs": [],
   "source": [
    "with open(str(building_dir)+\"/building_names.json\", \"w\") as writefile:\n",
    "    json.dump(building_names, writefile)"
   ]
  },
  {
   "cell_type": "code",
   "execution_count": 14,
   "metadata": {},
   "outputs": [
    {
     "name": "stdout",
     "output_type": "stream",
     "text": [
      "\n",
      "    <div id='CE24602_PeakAccelHistDiv' style=\"width:800px;height:400px;\"></div>\n",
      "    <div id='CE24602_PeakAccelPlotDiv' style=\"width:800px;height:400px;\"></div>\n",
      "    <div id='CE24386_PeakAccelHistDiv' style=\"width:800px;height:400px;\"></div>\n",
      "    <div id='CE24386_PeakAccelPlotDiv' style=\"width:800px;height:400px;\"></div>\n",
      "    <div id='CE58483_PeakAccelHistDiv' style=\"width:800px;height:400px;\"></div>\n",
      "    <div id='CE58483_PeakAccelPlotDiv' style=\"width:800px;height:400px;\"></div>\n",
      "    <div id='CE24579_PeakAccelHistDiv' style=\"width:800px;height:400px;\"></div>\n",
      "    <div id='CE24579_PeakAccelPlotDiv' style=\"width:800px;height:400px;\"></div>\n",
      "    <div id='CE24322_PeakAccelHistDiv' style=\"width:800px;height:400px;\"></div>\n",
      "    <div id='CE24322_PeakAccelPlotDiv' style=\"width:800px;height:400px;\"></div>\n",
      "    <div id='CE23634_PeakAccelHistDiv' style=\"width:800px;height:400px;\"></div>\n",
      "    <div id='CE23634_PeakAccelPlotDiv' style=\"width:800px;height:400px;\"></div>\n",
      "    <div id='CE89494_PeakAccelHistDiv' style=\"width:800px;height:400px;\"></div>\n",
      "    <div id='CE89494_PeakAccelPlotDiv' style=\"width:800px;height:400px;\"></div>\n",
      "    <div id='CE58196_PeakAccelHistDiv' style=\"width:800px;height:400px;\"></div>\n",
      "    <div id='CE58196_PeakAccelPlotDiv' style=\"width:800px;height:400px;\"></div>"
     ]
    }
   ],
   "source": [
    "# Don't worry about this; it's for making webpages of plots of building accelerations\n",
    "\n",
    "for cesmd in BUILDINGS.keys():  \n",
    "    print(f\"\"\"\n",
    "    <div id='{cesmd}_PeakAccelHistDiv' style=\"width:800px;height:400px;\"></div>\n",
    "    <div id='{cesmd}_PeakAccelPlotDiv' style=\"width:800px;height:400px;\"></div>\"\"\", end=\"\")"
   ]
  },
  {
   "cell_type": "code",
   "execution_count": null,
   "metadata": {},
   "outputs": [],
   "source": []
  }
 ],
 "metadata": {
  "kernelspec": {
   "display_name": "base",
   "language": "python",
   "name": "python3"
  },
  "language_info": {
   "codemirror_mode": {
    "name": "ipython",
    "version": 3
   },
   "file_extension": ".py",
   "mimetype": "text/x-python",
   "name": "python",
   "nbconvert_exporter": "python",
   "pygments_lexer": "ipython3",
   "version": "3.9.7"
  }
 },
 "nbformat": 4,
 "nbformat_minor": 2
}
